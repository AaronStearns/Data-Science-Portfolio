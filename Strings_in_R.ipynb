{
 "cells": [
  {
   "cell_type": "markdown",
   "metadata": {
    "deletable": true,
    "editable": true
   },
   "source": [
    "<h1>Stringr & Regex</h1>\n",
    "<h3>By: Aaron Stearns</h3>"
   ]
  },
  {
   "cell_type": "markdown",
   "metadata": {
    "deletable": true,
    "editable": true
   },
   "source": [
    "The following three exercises use the <strong>stringr</strong> library along with regular expressions to detect \n",
    "and extract text data.\n",
    "<br>\n",
    "After studying the given examples, try to complete the exercises yourself. If you get stuck, an answer key is provided at the bottom of the page.\n",
    "\n",
    "RStudio provides an excellent regex cheat sheet: \n",
    "<br>\n",
    "<a>https://www.rstudio.com/resources/cheatsheets/#stringr</a>\n",
    "\n",
    "Some additional references are: \n",
    "<br>\n",
    "R For Data Science (Strings chapter): <a>https://r4ds.had.co.nz/strings.html</a>\n",
    "<br>\n",
    "Handling Strings with R: <a>http://www.gastonsanchez.com/r4strings/</a>\n",
    "<br>\n",
    "Tidy Text Mining: <a>https://www.tidytextmining.com/</a>\n",
    "\n"
   ]
  },
  {
   "cell_type": "markdown",
   "metadata": {
    "deletable": true,
    "editable": true
   },
   "source": [
    "<h4>To start, we'll clean some very messy text from an 'employee' data set.</h4>"
   ]
  },
  {
   "cell_type": "code",
   "execution_count": 2,
   "metadata": {
    "collapsed": false,
    "deletable": true,
    "editable": true
   },
   "outputs": [
    {
     "data": {
      "text/html": [
       "<table>\n",
       "<thead><tr><th scope=col>employeeId</th><th scope=col>homeOffice</th><th scope=col>nameAndTitle</th><th scope=col>hireDate</th></tr></thead>\n",
       "<tbody>\n",
       "\t<tr><td>1                                  </td><td>Dallas, TX (USA)                   </td><td>Joe Smith (Accountant - Accounting)</td><td>5 January 2018                     </td></tr>\n",
       "\t<tr><td>2                                  </td><td>Albuquerque, NM (USA)              </td><td>Jane Doe (VP - Sales)              </td><td>2 February 2019                    </td></tr>\n",
       "\t<tr><td>3                                  </td><td>Toronto, ON (CAN)                  </td><td>Billy Bob (Manager - HR)           </td><td>27 March 2018                      </td></tr>\n",
       "</tbody>\n",
       "</table>\n"
      ],
      "text/latex": [
       "\\begin{tabular}{r|llll}\n",
       " employeeId & homeOffice & nameAndTitle & hireDate\\\\\n",
       "\\hline\n",
       "\t 1                                   & Dallas, TX (USA)                    & Joe Smith (Accountant - Accounting) & 5 January 2018                     \\\\\n",
       "\t 2                                   & Albuquerque, NM (USA)               & Jane Doe (VP - Sales)               & 2 February 2019                    \\\\\n",
       "\t 3                                   & Toronto, ON (CAN)                   & Billy Bob (Manager - HR)            & 27 March 2018                      \\\\\n",
       "\\end{tabular}\n"
      ],
      "text/markdown": [
       "\n",
       "employeeId | homeOffice | nameAndTitle | hireDate | \n",
       "|---|---|---|\n",
       "| 1                                   | Dallas, TX (USA)                    | Joe Smith (Accountant - Accounting) | 5 January 2018                      | \n",
       "| 2                                   | Albuquerque, NM (USA)               | Jane Doe (VP - Sales)               | 2 February 2019                     | \n",
       "| 3                                   | Toronto, ON (CAN)                   | Billy Bob (Manager - HR)            | 27 March 2018                       | \n",
       "\n",
       "\n"
      ],
      "text/plain": [
       "  employeeId homeOffice            nameAndTitle                       \n",
       "1 1          Dallas, TX (USA)      Joe Smith (Accountant - Accounting)\n",
       "2 2          Albuquerque, NM (USA) Jane Doe (VP - Sales)              \n",
       "3 3          Toronto, ON (CAN)     Billy Bob (Manager - HR)           \n",
       "  hireDate       \n",
       "1 5 January 2018 \n",
       "2 2 February 2019\n",
       "3 27 March 2018  "
      ]
     },
     "metadata": {},
     "output_type": "display_data"
    }
   ],
   "source": [
    "library(stringr)\n",
    "\n",
    "employeeId <- 1:3\n",
    "homeOffice <- c(\"Dallas, TX (USA)\", \"Albuquerque, NM (USA)\", \"Toronto, ON (CAN)\")\n",
    "hireDate <- c(\"5 January 2018\", \"2 February 2019\", \"27 March 2018\")\n",
    "nameAndTitle <- c(\"Joe Smith (Accountant - Accounting)\", \"Jane Doe (VP - Sales)\", \"Billy Bob (Manager - HR)\")\n",
    "\n",
    "data <- data.frame(employeeId, homeOffice, nameAndTitle, hireDate, stringsAsFactors = F)\n",
    "\n",
    "data"
   ]
  },
  {
   "cell_type": "markdown",
   "metadata": {
    "deletable": true,
    "editable": true
   },
   "source": [
    "<h4>All of the R regular expressions in the cell below produce the same output. \n",
    "They extract the word characters at the beginning of the string \n",
    "and up until the comma (the city) from the 'homeOffice' column:</h4>"
   ]
  },
  {
   "cell_type": "code",
   "execution_count": 3,
   "metadata": {
    "collapsed": false,
    "deletable": true,
    "editable": true
   },
   "outputs": [
    {
     "data": {
      "text/html": [
       "<ol class=list-inline>\n",
       "\t<li>'Dallas'</li>\n",
       "\t<li>'Albuquerque'</li>\n",
       "\t<li>'Toronto'</li>\n",
       "</ol>\n"
      ],
      "text/latex": [
       "\\begin{enumerate*}\n",
       "\\item 'Dallas'\n",
       "\\item 'Albuquerque'\n",
       "\\item 'Toronto'\n",
       "\\end{enumerate*}\n"
      ],
      "text/markdown": [
       "1. 'Dallas'\n",
       "2. 'Albuquerque'\n",
       "3. 'Toronto'\n",
       "\n",
       "\n"
      ],
      "text/plain": [
       "[1] \"Dallas\"      \"Albuquerque\" \"Toronto\"    "
      ]
     },
     "metadata": {},
     "output_type": "display_data"
    },
    {
     "data": {
      "text/html": [
       "<ol class=list-inline>\n",
       "\t<li>'Dallas'</li>\n",
       "\t<li>'Albuquerque'</li>\n",
       "\t<li>'Toronto'</li>\n",
       "</ol>\n"
      ],
      "text/latex": [
       "\\begin{enumerate*}\n",
       "\\item 'Dallas'\n",
       "\\item 'Albuquerque'\n",
       "\\item 'Toronto'\n",
       "\\end{enumerate*}\n"
      ],
      "text/markdown": [
       "1. 'Dallas'\n",
       "2. 'Albuquerque'\n",
       "3. 'Toronto'\n",
       "\n",
       "\n"
      ],
      "text/plain": [
       "[1] \"Dallas\"      \"Albuquerque\" \"Toronto\"    "
      ]
     },
     "metadata": {},
     "output_type": "display_data"
    },
    {
     "data": {
      "text/html": [
       "<ol class=list-inline>\n",
       "\t<li>'Dallas'</li>\n",
       "\t<li>'Albuquerque'</li>\n",
       "\t<li>'Toronto'</li>\n",
       "</ol>\n"
      ],
      "text/latex": [
       "\\begin{enumerate*}\n",
       "\\item 'Dallas'\n",
       "\\item 'Albuquerque'\n",
       "\\item 'Toronto'\n",
       "\\end{enumerate*}\n"
      ],
      "text/markdown": [
       "1. 'Dallas'\n",
       "2. 'Albuquerque'\n",
       "3. 'Toronto'\n",
       "\n",
       "\n"
      ],
      "text/plain": [
       "[1] \"Dallas\"      \"Albuquerque\" \"Toronto\"    "
      ]
     },
     "metadata": {},
     "output_type": "display_data"
    },
    {
     "data": {
      "text/html": [
       "<ol class=list-inline>\n",
       "\t<li>'Dallas'</li>\n",
       "\t<li>'Albuquerque'</li>\n",
       "\t<li>'Toronto'</li>\n",
       "</ol>\n"
      ],
      "text/latex": [
       "\\begin{enumerate*}\n",
       "\\item 'Dallas'\n",
       "\\item 'Albuquerque'\n",
       "\\item 'Toronto'\n",
       "\\end{enumerate*}\n"
      ],
      "text/markdown": [
       "1. 'Dallas'\n",
       "2. 'Albuquerque'\n",
       "3. 'Toronto'\n",
       "\n",
       "\n"
      ],
      "text/plain": [
       "[1] \"Dallas\"      \"Albuquerque\" \"Toronto\"    "
      ]
     },
     "metadata": {},
     "output_type": "display_data"
    },
    {
     "data": {
      "text/html": [
       "<ol class=list-inline>\n",
       "\t<li>'Dallas'</li>\n",
       "\t<li>'Albuquerque'</li>\n",
       "\t<li>'Toronto'</li>\n",
       "</ol>\n"
      ],
      "text/latex": [
       "\\begin{enumerate*}\n",
       "\\item 'Dallas'\n",
       "\\item 'Albuquerque'\n",
       "\\item 'Toronto'\n",
       "\\end{enumerate*}\n"
      ],
      "text/markdown": [
       "1. 'Dallas'\n",
       "2. 'Albuquerque'\n",
       "3. 'Toronto'\n",
       "\n",
       "\n"
      ],
      "text/plain": [
       "[1] \"Dallas\"      \"Albuquerque\" \"Toronto\"    "
      ]
     },
     "metadata": {},
     "output_type": "display_data"
    },
    {
     "data": {
      "text/html": [
       "<ol class=list-inline>\n",
       "\t<li>'Dallas'</li>\n",
       "\t<li>'Albuquerque'</li>\n",
       "\t<li>'Toronto'</li>\n",
       "</ol>\n"
      ],
      "text/latex": [
       "\\begin{enumerate*}\n",
       "\\item 'Dallas'\n",
       "\\item 'Albuquerque'\n",
       "\\item 'Toronto'\n",
       "\\end{enumerate*}\n"
      ],
      "text/markdown": [
       "1. 'Dallas'\n",
       "2. 'Albuquerque'\n",
       "3. 'Toronto'\n",
       "\n",
       "\n"
      ],
      "text/plain": [
       "[1] \"Dallas\"      \"Albuquerque\" \"Toronto\"    "
      ]
     },
     "metadata": {},
     "output_type": "display_data"
    },
    {
     "data": {
      "text/html": [
       "<ol class=list-inline>\n",
       "\t<li>'Dallas'</li>\n",
       "\t<li>'Albuquerque'</li>\n",
       "\t<li>'Toronto'</li>\n",
       "</ol>\n"
      ],
      "text/latex": [
       "\\begin{enumerate*}\n",
       "\\item 'Dallas'\n",
       "\\item 'Albuquerque'\n",
       "\\item 'Toronto'\n",
       "\\end{enumerate*}\n"
      ],
      "text/markdown": [
       "1. 'Dallas'\n",
       "2. 'Albuquerque'\n",
       "3. 'Toronto'\n",
       "\n",
       "\n"
      ],
      "text/plain": [
       "[1] \"Dallas\"      \"Albuquerque\" \"Toronto\"    "
      ]
     },
     "metadata": {},
     "output_type": "display_data"
    },
    {
     "data": {
      "text/html": [
       "<ol class=list-inline>\n",
       "\t<li>'Dallas'</li>\n",
       "\t<li>'Albuquerque'</li>\n",
       "\t<li>'Toronto'</li>\n",
       "</ol>\n"
      ],
      "text/latex": [
       "\\begin{enumerate*}\n",
       "\\item 'Dallas'\n",
       "\\item 'Albuquerque'\n",
       "\\item 'Toronto'\n",
       "\\end{enumerate*}\n"
      ],
      "text/markdown": [
       "1. 'Dallas'\n",
       "2. 'Albuquerque'\n",
       "3. 'Toronto'\n",
       "\n",
       "\n"
      ],
      "text/plain": [
       "[1] \"Dallas\"      \"Albuquerque\" \"Toronto\"    "
      ]
     },
     "metadata": {},
     "output_type": "display_data"
    }
   ],
   "source": [
    "# Search for word characters at the beginning of the string:\n",
    "str_extract(data$homeOffice, \"\\\\w+\")\n",
    "str_extract(data$homeOffice, \"^\\\\w+\")\n",
    "str_extract(data$homeOffice, \"^\\\\w+(?=,)\")\n",
    "\n",
    "# Using the 'wildcard' match:\n",
    "str_extract(data$homeOffice, \"^.+(?=,)\")\n",
    "\n",
    "# Using ranges of upper and lower-case letters:\n",
    "str_extract(data$homeOffice, \"[a-zA-Z]+\")\n",
    "str_extract(data$homeOffice, \"^[a-zA-Z]+\")\n",
    "\n",
    "# Specifying the position of upper and lower-case letters:\n",
    "str_extract(data$homeOffice, \"^[:upper:]{1}[:lower:]+\")\n",
    "str_extract(data$homeOffice, \"^[:upper:]{1}[:lower:]+(?=\\\\,)\")"
   ]
  },
  {
   "cell_type": "code",
   "execution_count": 4,
   "metadata": {
    "collapsed": false,
    "deletable": true,
    "editable": true
   },
   "outputs": [
    {
     "data": {
      "text/html": [
       "<ol class=list-inline>\n",
       "\t<li>'TX'</li>\n",
       "\t<li>'NM'</li>\n",
       "\t<li>'ON'</li>\n",
       "</ol>\n"
      ],
      "text/latex": [
       "\\begin{enumerate*}\n",
       "\\item 'TX'\n",
       "\\item 'NM'\n",
       "\\item 'ON'\n",
       "\\end{enumerate*}\n"
      ],
      "text/markdown": [
       "1. 'TX'\n",
       "2. 'NM'\n",
       "3. 'ON'\n",
       "\n",
       "\n"
      ],
      "text/plain": [
       "[1] \"TX\" \"NM\" \"ON\""
      ]
     },
     "metadata": {},
     "output_type": "display_data"
    },
    {
     "data": {
      "text/html": [
       "<ol class=list-inline>\n",
       "\t<li>'TX'</li>\n",
       "\t<li>'NM'</li>\n",
       "\t<li>'ON'</li>\n",
       "</ol>\n"
      ],
      "text/latex": [
       "\\begin{enumerate*}\n",
       "\\item 'TX'\n",
       "\\item 'NM'\n",
       "\\item 'ON'\n",
       "\\end{enumerate*}\n"
      ],
      "text/markdown": [
       "1. 'TX'\n",
       "2. 'NM'\n",
       "3. 'ON'\n",
       "\n",
       "\n"
      ],
      "text/plain": [
       "[1] \"TX\" \"NM\" \"ON\""
      ]
     },
     "metadata": {},
     "output_type": "display_data"
    }
   ],
   "source": [
    "# Different ways to extract the employee's home \n",
    "# state from the 'homeOffice' column using lookarounds:\n",
    "str_extract(data$homeOffice, \"(?<=\\\\,\\\\s{1})\\\\w{2}\")\n",
    "str_extract(data$homeOffice, \"(?<=\\\\,\\\\s{1})\\\\w+(?=\\\\s{1}\\\\()\")"
   ]
  },
  {
   "cell_type": "markdown",
   "metadata": {
    "collapsed": true,
    "deletable": true,
    "editable": true
   },
   "source": [
    "<h4>In the examples below, we'll use the str_extract() function\n",
    "from the 'stringr' package to extract all values</h4>"
   ]
  },
  {
   "cell_type": "code",
   "execution_count": 5,
   "metadata": {
    "collapsed": false,
    "deletable": true,
    "editable": true,
    "scrolled": true
   },
   "outputs": [
    {
     "data": {
      "text/html": [
       "<ol class=list-inline>\n",
       "\t<li>'5'</li>\n",
       "\t<li>'2'</li>\n",
       "\t<li>'27'</li>\n",
       "</ol>\n"
      ],
      "text/latex": [
       "\\begin{enumerate*}\n",
       "\\item '5'\n",
       "\\item '2'\n",
       "\\item '27'\n",
       "\\end{enumerate*}\n"
      ],
      "text/markdown": [
       "1. '5'\n",
       "2. '2'\n",
       "3. '27'\n",
       "\n",
       "\n"
      ],
      "text/plain": [
       "[1] \"5\"  \"2\"  \"27\""
      ]
     },
     "metadata": {},
     "output_type": "display_data"
    }
   ],
   "source": [
    "hireDay <- str_extract(data$hireDate, \"^\\\\d{1,2}\")\n",
    "\n",
    "hireDay"
   ]
  },
  {
   "cell_type": "markdown",
   "metadata": {
    "collapsed": false,
    "deletable": true,
    "editable": true
   },
   "source": [
    "<h4>Try to extract the hireMonth and hireYear from the hireDate column:</h4>"
   ]
  },
  {
   "cell_type": "code",
   "execution_count": 6,
   "metadata": {
    "collapsed": false,
    "deletable": true,
    "editable": true
   },
   "outputs": [
    {
     "data": {
      "text/html": [
       "<ol class=list-inline>\n",
       "\t<li>'January'</li>\n",
       "\t<li>'February'</li>\n",
       "\t<li>'March'</li>\n",
       "</ol>\n"
      ],
      "text/latex": [
       "\\begin{enumerate*}\n",
       "\\item 'January'\n",
       "\\item 'February'\n",
       "\\item 'March'\n",
       "\\end{enumerate*}\n"
      ],
      "text/markdown": [
       "1. 'January'\n",
       "2. 'February'\n",
       "3. 'March'\n",
       "\n",
       "\n"
      ],
      "text/plain": [
       "[1] \"January\"  \"February\" \"March\"   "
      ]
     },
     "metadata": {},
     "output_type": "display_data"
    }
   ],
   "source": [
    "# Hint: to extract the month, try using \"[:alpha:]\" or a combination \n",
    "# of \"[:upper:]\" and \"[:lower:]\" for the word characters\n",
    "hireMonth <- str_extract(data$hireDate, \"[:alpha:]+\")\n",
    "\n",
    "hireMonth"
   ]
  },
  {
   "cell_type": "code",
   "execution_count": 7,
   "metadata": {
    "collapsed": false,
    "deletable": true,
    "editable": true
   },
   "outputs": [
    {
     "data": {
      "text/html": [
       "<ol class=list-inline>\n",
       "\t<li>'2018'</li>\n",
       "\t<li>'2019'</li>\n",
       "\t<li>'2018'</li>\n",
       "</ol>\n"
      ],
      "text/latex": [
       "\\begin{enumerate*}\n",
       "\\item '2018'\n",
       "\\item '2019'\n",
       "\\item '2018'\n",
       "\\end{enumerate*}\n"
      ],
      "text/markdown": [
       "1. '2018'\n",
       "2. '2019'\n",
       "3. '2018'\n",
       "\n",
       "\n"
      ],
      "text/plain": [
       "[1] \"2018\" \"2019\" \"2018\""
      ]
     },
     "metadata": {},
     "output_type": "display_data"
    }
   ],
   "source": [
    "# Hint: Think about the position of the four digit year in the string\n",
    "hireYear <- str_extract(data$hireDate, \"\\\\d{4}$\")\n",
    "\n",
    "hireYear"
   ]
  },
  {
   "cell_type": "markdown",
   "metadata": {
    "collapsed": true,
    "deletable": true,
    "editable": true
   },
   "source": [
    "<h4>Now we'll tackle the 'nameAndTitle' column.</h4>"
   ]
  },
  {
   "cell_type": "code",
   "execution_count": 8,
   "metadata": {
    "collapsed": false,
    "deletable": true,
    "editable": true
   },
   "outputs": [
    {
     "data": {
      "text/html": [
       "<ol class=list-inline>\n",
       "\t<li>'Joe'</li>\n",
       "\t<li>'Jane'</li>\n",
       "\t<li>'Billy'</li>\n",
       "</ol>\n"
      ],
      "text/latex": [
       "\\begin{enumerate*}\n",
       "\\item 'Joe'\n",
       "\\item 'Jane'\n",
       "\\item 'Billy'\n",
       "\\end{enumerate*}\n"
      ],
      "text/markdown": [
       "1. 'Joe'\n",
       "2. 'Jane'\n",
       "3. 'Billy'\n",
       "\n",
       "\n"
      ],
      "text/plain": [
       "[1] \"Joe\"   \"Jane\"  \"Billy\""
      ]
     },
     "metadata": {},
     "output_type": "display_data"
    }
   ],
   "source": [
    "# Extract the word characters at the beginning of the string\n",
    "firstName <- str_extract(data$nameAndTitle, \"^\\\\w+\")\n",
    "\n",
    "firstName"
   ]
  },
  {
   "cell_type": "code",
   "execution_count": 9,
   "metadata": {
    "collapsed": false,
    "deletable": true,
    "editable": true
   },
   "outputs": [
    {
     "data": {
      "text/html": [
       "<ol class=list-inline>\n",
       "\t<li>' Smith '</li>\n",
       "\t<li>' Doe '</li>\n",
       "\t<li>' Bob '</li>\n",
       "</ol>\n"
      ],
      "text/latex": [
       "\\begin{enumerate*}\n",
       "\\item ' Smith '\n",
       "\\item ' Doe '\n",
       "\\item ' Bob '\n",
       "\\end{enumerate*}\n"
      ],
      "text/markdown": [
       "1. ' Smith '\n",
       "2. ' Doe '\n",
       "3. ' Bob '\n",
       "\n",
       "\n"
      ],
      "text/plain": [
       "[1] \" Smith \" \" Doe \"   \" Bob \"  "
      ]
     },
     "metadata": {},
     "output_type": "display_data"
    }
   ],
   "source": [
    "# Hint: think about the unique position of the last name in the string\n",
    "lastName <- str_extract(data$nameAndTitle, \"\\\\s{1}\\\\w+\\\\s{1}\")\n",
    "\n",
    "lastName"
   ]
  },
  {
   "cell_type": "markdown",
   "metadata": {
    "collapsed": true,
    "deletable": true,
    "editable": true
   },
   "source": [
    "<h4>In order to extract the job title and department, first let's extract \n",
    "everything inside of the parentheses of the nameAndTitle column</h4>"
   ]
  },
  {
   "cell_type": "code",
   "execution_count": 10,
   "metadata": {
    "collapsed": false,
    "deletable": true,
    "editable": true
   },
   "outputs": [
    {
     "data": {
      "text/html": [
       "<ol class=list-inline>\n",
       "\t<li>'(Accountant - Accounting)'</li>\n",
       "\t<li>'(VP - Sales)'</li>\n",
       "\t<li>'(Manager - HR)'</li>\n",
       "</ol>\n"
      ],
      "text/latex": [
       "\\begin{enumerate*}\n",
       "\\item '(Accountant - Accounting)'\n",
       "\\item '(VP - Sales)'\n",
       "\\item '(Manager - HR)'\n",
       "\\end{enumerate*}\n"
      ],
      "text/markdown": [
       "1. '(Accountant - Accounting)'\n",
       "2. '(VP - Sales)'\n",
       "3. '(Manager - HR)'\n",
       "\n",
       "\n"
      ],
      "text/plain": [
       "[1] \"(Accountant - Accounting)\" \"(VP - Sales)\"             \n",
       "[3] \"(Manager - HR)\"           "
      ]
     },
     "metadata": {},
     "output_type": "display_data"
    }
   ],
   "source": [
    "positionAndDepartment <- str_extract(data$nameAndTitle, \"\\\\(.+\\\\)\")\n",
    "positionAndDepartment"
   ]
  },
  {
   "cell_type": "code",
   "execution_count": 11,
   "metadata": {
    "collapsed": false,
    "deletable": true,
    "editable": true
   },
   "outputs": [
    {
     "data": {
      "text/html": [
       "<ol class=list-inline>\n",
       "\t<li>'Accountant'</li>\n",
       "\t<li>'VP'</li>\n",
       "\t<li>'Manager'</li>\n",
       "</ol>\n"
      ],
      "text/latex": [
       "\\begin{enumerate*}\n",
       "\\item 'Accountant'\n",
       "\\item 'VP'\n",
       "\\item 'Manager'\n",
       "\\end{enumerate*}\n"
      ],
      "text/markdown": [
       "1. 'Accountant'\n",
       "2. 'VP'\n",
       "3. 'Manager'\n",
       "\n",
       "\n"
      ],
      "text/plain": [
       "[1] \"Accountant\" \"VP\"         \"Manager\"   "
      ]
     },
     "metadata": {},
     "output_type": "display_data"
    }
   ],
   "source": [
    "# For the job title, extract all word characters after the \"(\" and before the space\n",
    "jobTitle <- str_extract(positionAndDepartment, \"(?<=\\\\()\\\\w+(?=\\\\s{1})\")\n",
    "\n",
    "jobTitle"
   ]
  },
  {
   "cell_type": "code",
   "execution_count": 12,
   "metadata": {
    "collapsed": false,
    "deletable": true,
    "editable": true
   },
   "outputs": [
    {
     "data": {
      "text/html": [
       "<ol class=list-inline>\n",
       "\t<li>'Accounting'</li>\n",
       "\t<li>'Sales'</li>\n",
       "\t<li>'HR'</li>\n",
       "</ol>\n"
      ],
      "text/latex": [
       "\\begin{enumerate*}\n",
       "\\item 'Accounting'\n",
       "\\item 'Sales'\n",
       "\\item 'HR'\n",
       "\\end{enumerate*}\n"
      ],
      "text/markdown": [
       "1. 'Accounting'\n",
       "2. 'Sales'\n",
       "3. 'HR'\n",
       "\n",
       "\n"
      ],
      "text/plain": [
       "[1] \"Accounting\" \"Sales\"      \"HR\"        "
      ]
     },
     "metadata": {},
     "output_type": "display_data"
    }
   ],
   "source": [
    "# To extract the department, extract all word characters after the \"-\" and before the \")\"\n",
    "department <- str_extract(positionAndDepartment, \"(?<=\\\\-\\\\s{1})\\\\w+(?=\\\\))\")\n",
    "\n",
    "department"
   ]
  },
  {
   "cell_type": "code",
   "execution_count": 13,
   "metadata": {
    "collapsed": false,
    "deletable": true,
    "editable": true
   },
   "outputs": [
    {
     "data": {
      "text/html": [
       "<ol class=list-inline>\n",
       "\t<li>'Dallas'</li>\n",
       "\t<li>'Albuquerque'</li>\n",
       "\t<li>'Toronto'</li>\n",
       "</ol>\n"
      ],
      "text/latex": [
       "\\begin{enumerate*}\n",
       "\\item 'Dallas'\n",
       "\\item 'Albuquerque'\n",
       "\\item 'Toronto'\n",
       "\\end{enumerate*}\n"
      ],
      "text/markdown": [
       "1. 'Dallas'\n",
       "2. 'Albuquerque'\n",
       "3. 'Toronto'\n",
       "\n",
       "\n"
      ],
      "text/plain": [
       "[1] \"Dallas\"      \"Albuquerque\" \"Toronto\"    "
      ]
     },
     "metadata": {},
     "output_type": "display_data"
    }
   ],
   "source": [
    "# Now, extract 'city' from the 'homeOffice' column\n",
    "city <- str_extract(data$homeOffice, \"^\\\\w+\")\n",
    "\n",
    "city"
   ]
  },
  {
   "cell_type": "code",
   "execution_count": 14,
   "metadata": {
    "collapsed": false,
    "deletable": true,
    "editable": true
   },
   "outputs": [
    {
     "data": {
      "text/html": [
       "<ol class=list-inline>\n",
       "\t<li>'TX'</li>\n",
       "\t<li>'NM'</li>\n",
       "\t<li>'ON'</li>\n",
       "</ol>\n"
      ],
      "text/latex": [
       "\\begin{enumerate*}\n",
       "\\item 'TX'\n",
       "\\item 'NM'\n",
       "\\item 'ON'\n",
       "\\end{enumerate*}\n"
      ],
      "text/markdown": [
       "1. 'TX'\n",
       "2. 'NM'\n",
       "3. 'ON'\n",
       "\n",
       "\n"
      ],
      "text/plain": [
       "[1] \"TX\" \"NM\" \"ON\""
      ]
     },
     "metadata": {},
     "output_type": "display_data"
    }
   ],
   "source": [
    "# Extract the two-character state abbbreviation after the comma/space and before the comma/open parenthesis\n",
    "stateOrProvince <- str_extract(data$homeOffice, \"(?<=,\\\\s{1})\\\\w+(?=\\\\s{1}\\\\()\")\n",
    "\n",
    "stateOrProvince"
   ]
  },
  {
   "cell_type": "code",
   "execution_count": 15,
   "metadata": {
    "collapsed": false,
    "deletable": true,
    "editable": true
   },
   "outputs": [
    {
     "data": {
      "text/html": [
       "<ol class=list-inline>\n",
       "\t<li>'USA'</li>\n",
       "\t<li>'USA'</li>\n",
       "\t<li>'CAN'</li>\n",
       "</ol>\n"
      ],
      "text/latex": [
       "\\begin{enumerate*}\n",
       "\\item 'USA'\n",
       "\\item 'USA'\n",
       "\\item 'CAN'\n",
       "\\end{enumerate*}\n"
      ],
      "text/markdown": [
       "1. 'USA'\n",
       "2. 'USA'\n",
       "3. 'CAN'\n",
       "\n",
       "\n"
      ],
      "text/plain": [
       "[1] \"USA\" \"USA\" \"CAN\""
      ]
     },
     "metadata": {},
     "output_type": "display_data"
    }
   ],
   "source": [
    "# Extract the three upper-case letters between the parentheses\n",
    "country <- str_extract(data$homeOffice, \"(?<=\\\\()\\\\w{3}(?=\\\\))\")\n",
    "\n",
    "country"
   ]
  },
  {
   "cell_type": "code",
   "execution_count": 16,
   "metadata": {
    "collapsed": false,
    "deletable": true,
    "editable": true
   },
   "outputs": [
    {
     "data": {
      "text/html": [
       "<table>\n",
       "<thead><tr><th scope=col>employeeId</th><th scope=col>hireDay</th><th scope=col>hireMonth</th><th scope=col>hireYear</th><th scope=col>firstName</th><th scope=col>lastName</th><th scope=col>jobTitle</th><th scope=col>department</th><th scope=col>city</th><th scope=col>stateOrProvince</th><th scope=col>country</th></tr></thead>\n",
       "<tbody>\n",
       "\t<tr><td>1          </td><td>5          </td><td>January    </td><td>2018       </td><td>Joe        </td><td> Smith     </td><td>Accountant </td><td>Accounting </td><td>Dallas     </td><td>TX         </td><td>USA        </td></tr>\n",
       "\t<tr><td>2          </td><td>2          </td><td>February   </td><td>2019       </td><td>Jane       </td><td> Doe       </td><td>VP         </td><td>Sales      </td><td>Albuquerque</td><td>NM         </td><td>USA        </td></tr>\n",
       "\t<tr><td>3          </td><td>27         </td><td>March      </td><td>2018       </td><td>Billy      </td><td> Bob       </td><td>Manager    </td><td>HR         </td><td>Toronto    </td><td>ON         </td><td>CAN        </td></tr>\n",
       "</tbody>\n",
       "</table>\n"
      ],
      "text/latex": [
       "\\begin{tabular}{r|lllllllllll}\n",
       " employeeId & hireDay & hireMonth & hireYear & firstName & lastName & jobTitle & department & city & stateOrProvince & country\\\\\n",
       "\\hline\n",
       "\t 1           & 5           & January     & 2018        & Joe         &  Smith      & Accountant  & Accounting  & Dallas      & TX          & USA        \\\\\n",
       "\t 2           & 2           & February    & 2019        & Jane        &  Doe        & VP          & Sales       & Albuquerque & NM          & USA        \\\\\n",
       "\t 3           & 27          & March       & 2018        & Billy       &  Bob        & Manager     & HR          & Toronto     & ON          & CAN        \\\\\n",
       "\\end{tabular}\n"
      ],
      "text/markdown": [
       "\n",
       "employeeId | hireDay | hireMonth | hireYear | firstName | lastName | jobTitle | department | city | stateOrProvince | country | \n",
       "|---|---|---|\n",
       "| 1           | 5           | January     | 2018        | Joe         |  Smith      | Accountant  | Accounting  | Dallas      | TX          | USA         | \n",
       "| 2           | 2           | February    | 2019        | Jane        |  Doe        | VP          | Sales       | Albuquerque | NM          | USA         | \n",
       "| 3           | 27          | March       | 2018        | Billy       |  Bob        | Manager     | HR          | Toronto     | ON          | CAN         | \n",
       "\n",
       "\n"
      ],
      "text/plain": [
       "  employeeId hireDay hireMonth hireYear firstName lastName jobTitle  \n",
       "1 1          5       January   2018     Joe        Smith   Accountant\n",
       "2 2          2       February  2019     Jane       Doe     VP        \n",
       "3 3          27      March     2018     Billy      Bob     Manager   \n",
       "  department city        stateOrProvince country\n",
       "1 Accounting Dallas      TX              USA    \n",
       "2 Sales      Albuquerque NM              USA    \n",
       "3 HR         Toronto     ON              CAN    "
      ]
     },
     "metadata": {},
     "output_type": "display_data"
    }
   ],
   "source": [
    "# Combine all extracted string vectors into new data frame:\n",
    "cleanedData <- data.frame(employeeId,\n",
    "                          hireDay, \n",
    "                          hireMonth, \n",
    "                          hireYear, \n",
    "                          firstName, \n",
    "                          lastName, \n",
    "                          jobTitle, \n",
    "                          department, \n",
    "                          city, \n",
    "                          stateOrProvince, \n",
    "                          country)\n",
    "cleanedData"
   ]
  },
  {
   "cell_type": "markdown",
   "metadata": {
    "collapsed": true,
    "deletable": true,
    "editable": true
   },
   "source": [
    "<h2>New challenge: identify files in a folder</h2>"
   ]
  },
  {
   "cell_type": "code",
   "execution_count": 17,
   "metadata": {
    "collapsed": false,
    "deletable": true,
    "editable": true
   },
   "outputs": [
    {
     "data": {
      "text/html": [
       "'image.jpg'"
      ],
      "text/latex": [
       "'image.jpg'"
      ],
      "text/markdown": [
       "'image.jpg'"
      ],
      "text/plain": [
       "[1] \"image.jpg\""
      ]
     },
     "metadata": {},
     "output_type": "display_data"
    }
   ],
   "source": [
    "# Imagine that this variable, 'files' is a list of all files in a folder\n",
    "files <- c(\"image.jpg\", \"image.png\", \"report.csv\", \"report3.csv\", \"report5.csv\", \"report21.csv\", \"report23.csv\")\n",
    "files[1]"
   ]
  },
  {
   "cell_type": "code",
   "execution_count": 18,
   "metadata": {
    "collapsed": false,
    "deletable": true,
    "editable": true
   },
   "outputs": [
    {
     "data": {
      "text/html": [
       "<ol class=list-inline>\n",
       "\t<li>3</li>\n",
       "\t<li>4</li>\n",
       "\t<li>5</li>\n",
       "\t<li>6</li>\n",
       "\t<li>7</li>\n",
       "</ol>\n"
      ],
      "text/latex": [
       "\\begin{enumerate*}\n",
       "\\item 3\n",
       "\\item 4\n",
       "\\item 5\n",
       "\\item 6\n",
       "\\item 7\n",
       "\\end{enumerate*}\n"
      ],
      "text/markdown": [
       "1. 3\n",
       "2. 4\n",
       "3. 5\n",
       "4. 6\n",
       "5. 7\n",
       "\n",
       "\n"
      ],
      "text/plain": [
       "[1] 3 4 5 6 7"
      ]
     },
     "metadata": {},
     "output_type": "display_data"
    }
   ],
   "source": [
    "# Find all .csv files in the folder:\n",
    "str_which(files, \"\\\\.csv\")"
   ]
  },
  {
   "cell_type": "code",
   "execution_count": 19,
   "metadata": {
    "collapsed": false,
    "deletable": true,
    "editable": true
   },
   "outputs": [
    {
     "data": {
      "text/html": [
       "<ol class=list-inline>\n",
       "\t<li>3</li>\n",
       "\t<li>4</li>\n",
       "\t<li>5</li>\n",
       "\t<li>6</li>\n",
       "\t<li>7</li>\n",
       "</ol>\n"
      ],
      "text/latex": [
       "\\begin{enumerate*}\n",
       "\\item 3\n",
       "\\item 4\n",
       "\\item 5\n",
       "\\item 6\n",
       "\\item 7\n",
       "\\end{enumerate*}\n"
      ],
      "text/markdown": [
       "1. 3\n",
       "2. 4\n",
       "3. 5\n",
       "4. 6\n",
       "5. 7\n",
       "\n",
       "\n"
      ],
      "text/plain": [
       "[1] 3 4 5 6 7"
      ]
     },
     "metadata": {},
     "output_type": "display_data"
    }
   ],
   "source": [
    "# Find all .csv files in folder containing \"report\" in the name (ex: report.csv, report2.csv)\n",
    "str_which(files, \"report\\\\d{0,2}\\\\.csv\")\n"
   ]
  },
  {
   "cell_type": "code",
   "execution_count": 20,
   "metadata": {
    "collapsed": false,
    "deletable": true,
    "editable": true
   },
   "outputs": [
    {
     "data": {
      "text/html": [
       "<ol class=list-inline>\n",
       "\t<li>6</li>\n",
       "\t<li>7</li>\n",
       "</ol>\n"
      ],
      "text/latex": [
       "\\begin{enumerate*}\n",
       "\\item 6\n",
       "\\item 7\n",
       "\\end{enumerate*}\n"
      ],
      "text/markdown": [
       "1. 6\n",
       "2. 7\n",
       "\n",
       "\n"
      ],
      "text/plain": [
       "[1] 6 7"
      ]
     },
     "metadata": {},
     "output_type": "display_data"
    }
   ],
   "source": [
    "# Find all .csv files in folder containing \"report\" with the report \n",
    "# number between 21 and 24 (ex: report21.csv, report23.csv)\n",
    "str_which(files, \"report2[1234]\\\\.csv\")\n"
   ]
  },
  {
   "cell_type": "markdown",
   "metadata": {
    "deletable": true,
    "editable": true
   },
   "source": [
    "<h2>New challenge: extract multiple values from a string</h2>"
   ]
  },
  {
   "cell_type": "markdown",
   "metadata": {
    "collapsed": true,
    "deletable": true,
    "editable": true
   },
   "source": [
    "Now, we will take a look at a subset of some data from the Kaggle TMDB competition (https://www.kaggle.com/c/tmdb-box-office-prediction)\n",
    "<br>\n",
    "The data is in an invalid JSON format (it uses single quotes instead of double quotes), and so the challenge is to extract the values from each key-value pair."
   ]
  },
  {
   "cell_type": "code",
   "execution_count": 21,
   "metadata": {
    "collapsed": false,
    "deletable": true,
    "editable": true
   },
   "outputs": [
    {
     "data": {
      "text/html": [
       "<table>\n",
       "<thead><tr><th scope=col>movieId</th><th scope=col>badJSON</th></tr></thead>\n",
       "<tbody>\n",
       "\t<tr><td>1                                                                                                                             </td><td>[{'id': 35, 'name': 'Comedy'}, {'id': 18, 'name': 'Drama'}, {'id': 10751, 'name': 'Family'}, {'id': 10749, 'name': 'Romance'}]</td></tr>\n",
       "\t<tr><td>2                                                                                                                             </td><td>[{'id': 53, 'name': 'Thriller'}, {'id': 18, 'name': 'Drama'}]                                                                 </td></tr>\n",
       "\t<tr><td>3                                                                                                                             </td><td>[{'id': 35, 'name': 'Comedy'}]                                                                                                </td></tr>\n",
       "</tbody>\n",
       "</table>\n"
      ],
      "text/latex": [
       "\\begin{tabular}{r|ll}\n",
       " movieId & badJSON\\\\\n",
       "\\hline\n",
       "\t 1                                                                                                                                                  & {[}\\{'id': 35, 'name': 'Comedy'\\}, \\{'id': 18, 'name': 'Drama'\\}, \\{'id': 10751, 'name': 'Family'\\}, \\{'id': 10749, 'name': 'Romance'\\}{]}\\\\\n",
       "\t 2                                                                                                                                          & {[}\\{'id': 53, 'name': 'Thriller'\\}, \\{'id': 18, 'name': 'Drama'\\}{]}                                                                 \\\\\n",
       "\t 3                                                                                                                                      & {[}\\{'id': 35, 'name': 'Comedy'\\}{]}                                                                                                \\\\\n",
       "\\end{tabular}\n"
      ],
      "text/markdown": [
       "\n",
       "movieId | badJSON | \n",
       "|---|---|---|\n",
       "| 1                                                                                                                              | [{'id': 35, 'name': 'Comedy'}, {'id': 18, 'name': 'Drama'}, {'id': 10751, 'name': 'Family'}, {'id': 10749, 'name': 'Romance'}] | \n",
       "| 2                                                                                                                              | [{'id': 53, 'name': 'Thriller'}, {'id': 18, 'name': 'Drama'}]                                                                  | \n",
       "| 3                                                                                                                              | [{'id': 35, 'name': 'Comedy'}]                                                                                                 | \n",
       "\n",
       "\n"
      ],
      "text/plain": [
       "  movieId\n",
       "1 1      \n",
       "2 2      \n",
       "3 3      \n",
       "  badJSON                                                                                                                       \n",
       "1 [{'id': 35, 'name': 'Comedy'}, {'id': 18, 'name': 'Drama'}, {'id': 10751, 'name': 'Family'}, {'id': 10749, 'name': 'Romance'}]\n",
       "2 [{'id': 53, 'name': 'Thriller'}, {'id': 18, 'name': 'Drama'}]                                                                 \n",
       "3 [{'id': 35, 'name': 'Comedy'}]                                                                                                "
      ]
     },
     "metadata": {},
     "output_type": "display_data"
    }
   ],
   "source": [
    "movieId <- 1:3\n",
    "badJSON <- c(\"[{'id': 35, 'name': 'Comedy'}, {'id': 18, 'name': 'Drama'}, {'id': 10751, 'name': 'Family'}, {'id': 10749, 'name': 'Romance'}]\", \"[{'id': 53, 'name': 'Thriller'}, {'id': 18, 'name': 'Drama'}]\", \"[{'id': 35, 'name': 'Comedy'}]\")\n",
    "\n",
    "df <- data.frame(movieId, badJSON)\n",
    "df"
   ]
  },
  {
   "cell_type": "code",
   "execution_count": 22,
   "metadata": {
    "collapsed": false,
    "deletable": true,
    "editable": true
   },
   "outputs": [
    {
     "data": {
      "text/html": [
       "<table>\n",
       "<thead><tr><th scope=col>X1</th><th scope=col>X2</th><th scope=col>X3</th><th scope=col>X4</th></tr></thead>\n",
       "<tbody>\n",
       "\t<tr><td>35</td><td>18</td><td>10</td><td>10</td></tr>\n",
       "\t<tr><td>53</td><td>18</td><td>  </td><td>  </td></tr>\n",
       "\t<tr><td>35</td><td>  </td><td>  </td><td>  </td></tr>\n",
       "</tbody>\n",
       "</table>\n"
      ],
      "text/latex": [
       "\\begin{tabular}{r|llll}\n",
       " X1 & X2 & X3 & X4\\\\\n",
       "\\hline\n",
       "\t 35 & 18 & 10 & 10\\\\\n",
       "\t 53 & 18 &    &   \\\\\n",
       "\t 35 &    &    &   \\\\\n",
       "\\end{tabular}\n"
      ],
      "text/markdown": [
       "\n",
       "X1 | X2 | X3 | X4 | \n",
       "|---|---|---|\n",
       "| 35 | 18 | 10 | 10 | \n",
       "| 53 | 18 |    |    | \n",
       "| 35 |    |    |    | \n",
       "\n",
       "\n"
      ],
      "text/plain": [
       "  X1 X2 X3 X4\n",
       "1 35 18 10 10\n",
       "2 53 18      \n",
       "3 35         "
      ]
     },
     "metadata": {},
     "output_type": "display_data"
    }
   ],
   "source": [
    "# Use a combination of lookarounds and word character matching to \n",
    "# extract the genre id values. The str_extract_all() function from stringr\n",
    "# will extract every match in the string. \n",
    "genreIds <- data.frame(str_extract_all(df$badJSON, \"(?<=id\\\\'\\\\:\\\\s{1})\\\\d{2}\", simplify = T))\n",
    "\n",
    "genreIds"
   ]
  },
  {
   "cell_type": "code",
   "execution_count": 23,
   "metadata": {
    "collapsed": false,
    "deletable": true,
    "editable": true
   },
   "outputs": [
    {
     "data": {
      "text/html": [
       "<table>\n",
       "<thead><tr><th scope=col>X1</th><th scope=col>X2</th><th scope=col>X3</th><th scope=col>X4</th></tr></thead>\n",
       "<tbody>\n",
       "\t<tr><td>Comedy  </td><td>Drama   </td><td>Family  </td><td>Romance </td></tr>\n",
       "\t<tr><td>Thriller</td><td>Drama   </td><td>        </td><td>        </td></tr>\n",
       "\t<tr><td>Comedy  </td><td>        </td><td>        </td><td>        </td></tr>\n",
       "</tbody>\n",
       "</table>\n"
      ],
      "text/latex": [
       "\\begin{tabular}{r|llll}\n",
       " X1 & X2 & X3 & X4\\\\\n",
       "\\hline\n",
       "\t Comedy   & Drama    & Family   & Romance \\\\\n",
       "\t Thriller & Drama    &          &         \\\\\n",
       "\t Comedy   &          &          &         \\\\\n",
       "\\end{tabular}\n"
      ],
      "text/markdown": [
       "\n",
       "X1 | X2 | X3 | X4 | \n",
       "|---|---|---|\n",
       "| Comedy   | Drama    | Family   | Romance  | \n",
       "| Thriller | Drama    |          |          | \n",
       "| Comedy   |          |          |          | \n",
       "\n",
       "\n"
      ],
      "text/plain": [
       "  X1       X2    X3     X4     \n",
       "1 Comedy   Drama Family Romance\n",
       "2 Thriller Drama               \n",
       "3 Comedy                       "
      ]
     },
     "metadata": {},
     "output_type": "display_data"
    }
   ],
   "source": [
    "# Do the same as above, but this time with the genre names.\n",
    "genreNames <- data.frame(str_extract_all(df$badJSON, \"(?<=name\\\\'\\\\:\\\\s{1}\\\\')\\\\w+(?=\\\\'\\\\})\", simplify = T))\n",
    "\n",
    "genreNames"
   ]
  },
  {
   "cell_type": "code",
   "execution_count": null,
   "metadata": {
    "collapsed": false,
    "deletable": true,
    "editable": true
   },
   "outputs": [],
   "source": [
    "# Answer key:\n",
    "hireMonth <- str_extract(data$hireDate, \"[:alpha:]+\")\n",
    "\n",
    "hireYear <- str_extract(data$hireDate, \"\\\\d{4}$\")\n",
    "\n",
    "firstName <- str_extract(data$nameAndTitle, \"^\\\\w+\")\n",
    "\n",
    "lastName <- str_extract(data$nameAndTitle, \"\\\\s{1}\\\\w+\\\\s{1}\")\n",
    "\n",
    "positionAndDepartment <- str_extract(data$nameAndTitle, \"\\\\(.+\\\\)\")\n",
    "\n",
    "jobTitle <- str_extract(positionAndDepartment, \"(?<=\\\\()\\\\w+(?=\\\\s{1})\")\n",
    "\n",
    "department <- str_extract(positionAndDepartment, \"(?<=\\\\-\\\\s{1})\\\\w+(?=\\\\))\")\n",
    "\n",
    "city <- str_extract(data$homeOffice, \"^\\\\w+\")\n",
    "\n",
    "stateOrProvince <- str_extract(data$homeOffice, \"(?<=,\\\\s{1})\\\\w+(?=\\\\s{1}\\\\()\")\n",
    "\n",
    "country <- str_extract(data$homeOffice, \"(?<=\\\\()\\\\w{3}(?=\\\\))\")\n",
    "\n",
    "####################################################\n",
    "# Finding files:\n",
    "####################################################\n",
    "\n",
    "# Find all .csv files in the folder:\n",
    "str_which(files, \"\\\\.csv\")\n",
    "\n",
    "# Find all .csv files in folder containing \"report\" in the name (ex: report.csv, report2.csv)\n",
    "str_which(files, \"report\\\\d{0,2}\\\\.csv\")\n",
    "\n",
    "# find all .txt files in folder containing \"report\" with the report number \n",
    "# between 21 and 24 (ex: report21.csv, report23.csv)\n",
    "str_which(files, \"report2[1234]\\\\.csv\")\n",
    "str_which(files, \"report2[1-4]\\\\.csv\")\n",
    "\n",
    "####################################################\n",
    "# Unpacking bad JSON:\n",
    "####################################################\n",
    "\n",
    "genreIds <- data.frame(str_extract_all(df$badJSON, \"(?<=id\\\\'\\\\:\\\\s{1})\\\\d{2}\", simplify = T))\n",
    "\n",
    "genreNames <- data.frame(str_extract_all(df$badJSON, \"(?<=name\\\\'\\\\:\\\\s{1}\\\\')\\\\w+(?=\\\\'\\\\})\", simplify = T))"
   ]
  }
 ],
 "metadata": {
  "kernelspec": {
   "display_name": "R",
   "language": "R",
   "name": "ir"
  },
  "language_info": {
   "codemirror_mode": "r",
   "file_extension": ".r",
   "mimetype": "text/x-r-source",
   "name": "R",
   "pygments_lexer": "r",
   "version": "3.3.3"
  }
 },
 "nbformat": 4,
 "nbformat_minor": 2
}
